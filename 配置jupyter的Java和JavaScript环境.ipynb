{
 "cells": [
  {
   "cell_type": "markdown",
   "metadata": {
    "slideshow": {
     "slide_type": "slide"
    }
   },
   "source": [
    "# Python 环境配置\n",
    "\n",
    "<hr />\n",
    "\n",
    "## Python 下载安装\n"
   ]
  },
  {
   "cell_type": "markdown",
   "metadata": {
    "slideshow": {
     "slide_type": "slide"
    }
   },
   "source": [
    "# Java 环境配置\n",
    "\n",
    "<hr/>\n",
    "\n",
    "## Java下载安装\n",
    "\n",
    "\"JDK-11.0.7下载\" 链接： <a href=\"https://pan.baidu.com/s/1Bl5HgTpUDCpcJuiAkcuWvA\" target=\"_blank\">https://pan.baidu.com/s/1Bl5HgTpUDCpcJuiAkcuWvA</a>  提取码：1aeh\n",
    "\n",
    "## windows下环境变量配置\n",
    "\n",
    "变量设置参数如下：<br>\n",
    "变量名：JAVA_HOME<br>\n",
    "变量值：C:\\Program Files (x86)\\Java\\jdk1.8.0_91        // 要根据自己的实际路径配置<br>\n",
    "变量名：CLASSPATH\n",
    "变量值：.;%JAVA_HOME%\\lib\\dt.jar;%JAVA_HOME%\\lib\\tools.jar;         //注意前面有个\".\"<br>\n",
    "变量名：Path<br>\n",
    "变量值：%JAVA_HOME%\\bin;%JAVA_HOME%\\jre\\bin;<br>\n",
    "<a href=\"https://www.runoob.com/wp-content/uploads/2018/08/1534411011-6006-3932295-f3fe252e7a837300.png\" target=\"_blank\"><img src=\"https://www.runoob.com/wp-content/uploads/2018/08/1534411011-6006-3932295-f3fe252e7a837300.png\" alt=\"图片替换文本\" width=\"240\" align=\"left\"/></a>"
   ]
  },
  {
   "cell_type": "markdown",
   "metadata": {
    "slideshow": {
     "slide_type": "slide"
    }
   },
   "source": [
    "# Jupyter 配置Java环境\n",
    "\n",
    "<hr/>\n",
    "\n",
    "## 步骤一\n",
    "\n",
    "打开windows cmd，通过命令`java -version`查看java的版本信息。如果看到java字样，以及版本信息，那么说明java是可用的。<br>\n",
    "\n",
    "<a href=\"https://imgsa.baidu.com/exp/w=480/sign=ce34d3df1dd5ad6eaaf965e2b1cb39a3/eac4b74543a98226d3d3c33c8c82b9014a90eb9f.jpg\" target=\"_blank\" ><img src=\"https://imgsa.baidu.com/exp/w=480/sign=ce34d3df1dd5ad6eaaf965e2b1cb39a3/eac4b74543a98226d3d3c33c8c82b9014a90eb9f.jpg\" alt=\"图片替换文本\" align=\"center\" /></a><br>\n",
    "\n",
    "\n",
    "## 步骤二\n",
    "\n",
    "IJava在github上。如图是直接到Releases查看可用版本，可以直接获取ijava-x.x.x.zip（注：IJava github文档中，举例是Sun JDK，如果是Open JDK，可以自己尝试看能否使用。）<br>\n",
    "\"IJava 下载\" 链接: <a href=\"https://github.com/SpencerPark/IJava/releases\" target=\"_blank\">https://github.com/SpencerPark/IJava/releases</a>  在Assets处下载<br>\n",
    "下载完成后，解压\"IJava\"压缩包<br>\n",
    "打开windows cmd，cd 至该解压包文件夹下运行代码`python3 install.py`（需配置好Python环境）<br>"
   ]
  },
  {
   "cell_type": "markdown",
   "metadata": {
    "code_folding": [],
    "slideshow": {
     "slide_type": "slide"
    },
    "solution2": "hidden",
    "solution2_first": true
   },
   "source": [
    "# 练习\n",
    "\n",
    "打印hello world！\n"
   ]
  },
  {
   "cell_type": "code",
   "execution_count": 1,
   "metadata": {
    "slideshow": {
     "slide_type": "subslide"
    },
    "solution2": "hidden"
   },
   "outputs": [
    {
     "name": "stdout",
     "output_type": "stream",
     "text": [
      "hello world!\n"
     ]
    }
   ],
   "source": [
    "print('hello world!')"
   ]
  }
 ],
 "metadata": {
  "celltoolbar": "幻灯片",
  "kernelspec": {
   "display_name": "Python 3",
   "language": "python",
   "name": "python3"
  },
  "language_info": {
   "codemirror_mode": {
    "name": "ipython",
    "version": 3
   },
   "file_extension": ".py",
   "mimetype": "text/x-python",
   "name": "python",
   "nbconvert_exporter": "python",
   "pygments_lexer": "ipython3",
   "version": "3.8.1"
  },
  "toc": {
   "base_numbering": 1,
   "nav_menu": {},
   "number_sections": true,
   "sideBar": true,
   "skip_h1_title": false,
   "title_cell": "Table of Contents",
   "title_sidebar": "Contents",
   "toc_cell": false,
   "toc_position": {
    "height": "calc(100% - 180px)",
    "left": "10px",
    "top": "150px",
    "width": "246.6px"
   },
   "toc_section_display": true,
   "toc_window_display": true
  }
 },
 "nbformat": 4,
 "nbformat_minor": 2
}
